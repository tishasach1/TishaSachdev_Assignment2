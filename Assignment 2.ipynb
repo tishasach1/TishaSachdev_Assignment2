{
 "cells": [
  {
   "cell_type": "code",
   "execution_count": 1,
   "id": "ee4eb293-a0a5-496b-9f38-dce718ab5d7b",
   "metadata": {},
   "outputs": [
    {
     "name": "stdout",
     "output_type": "stream",
     "text": [
      "Hello Tisha !\n",
      "Hi Tisha Sachdeva!\n"
     ]
    }
   ],
   "source": [
    "def greet(name: str, greeting: str = \"Hello\") -> str:\n",
    "    return f\"{greeting} {name}!\"\n",
    "\n",
    "print(greet(\"Tisha \"))  \n",
    "print(greet(\"Tisha Sachdeva\", \"Hi\"))  \n"
   ]
  },
  {
   "cell_type": "code",
   "execution_count": 3,
   "id": "b2a6131a-7c55-4dcc-89aa-c9cafc8b5418",
   "metadata": {},
   "outputs": [
    {
     "name": "stdout",
     "output_type": "stream",
     "text": [
      "Name: Alice, Age: 18, City: New York\n",
      "Name: Bob, Age: 30, City: Los Angeles\n"
     ]
    }
   ],
   "source": [
    "def create_profile(name, city, age=18):\n",
    "     return f\"Name: {name}, Age: {age}, City: {city}\"\n",
    "print(create_profile(\"Alice\", \"New York\"))  \n",
    "print(create_profile(\"Bob\", \"Los Angeles\", 30))  "
   ]
  },
  {
   "cell_type": "code",
   "execution_count": 7,
   "id": "0c36c171-81e1-40cf-8c35-baa8d9a1c0e2",
   "metadata": {},
   "outputs": [
    {
     "name": "stdout",
     "output_type": "stream",
     "text": [
      "(6, {'a': 4, 'b': 5, 'c': 6})\n",
      "(9, {'Tisha': 'Sachdeva'})\n"
     ]
    }
   ],
   "source": [
    "def sum_numbers(*args, **kwargs):\n",
    "    num_sum = sum(arg for arg in args if isinstance(arg, (int, float)))\n",
    "    return num_sum, kwargs\n",
    "result = sum_numbers(1, 2, 3, a=4, b=5, c=6)\n",
    "print(result) \n",
    "\n",
    "result = sum_numbers('hello', 4, 5, Tisha='Sachdeva')\n",
    "print(result)  "
   ]
  },
  {
   "cell_type": "code",
   "execution_count": 15,
   "id": "51c30144-1900-4676-8fc1-ea97514babaa",
   "metadata": {},
   "outputs": [
    {
     "name": "stdout",
     "output_type": "stream",
     "text": [
      "[1, 4, 9, 16, 25]\n"
     ]
    }
   ],
   "source": [
    "def square_elements(numbers):\n",
    "    return list(map(lambda x: x**2, numbers))\n",
    "numbers = [1, 2, 3, 4, 5]\n",
    "result = square_elements(numbers)\n",
    "print(result)  "
   ]
  },
  {
   "cell_type": "code",
   "execution_count": 19,
   "id": "9ed95a41-332e-4bff-bea2-3fe17ca832d1",
   "metadata": {},
   "outputs": [
    {
     "name": "stdout",
     "output_type": "stream",
     "text": [
      "[1, 4, 9, 16, 25]\n"
     ]
    }
   ],
   "source": [
    "numbers = [1, 2, 3, 4, 5]\n",
    "squares = [n**2 for n in numbers]\n",
    "print(squares)  "
   ]
  },
  {
   "cell_type": "code",
   "execution_count": 21,
   "id": "4363342a-0a11-410f-9031-f99fea69ed32",
   "metadata": {},
   "outputs": [
    {
     "name": "stdout",
     "output_type": "stream",
     "text": [
      "The list of even numbers from 1 to 20 is:\n",
      "[2, 4, 6, 8, 10, 12, 14, 16, 18, 20]\n"
     ]
    },
    {
     "data": {
      "text/plain": [
       "'The list of even numbers from 1 to 20 is:\\n[2, 4, 6, 8, 10, 12, 14, 16, 18, 20]'"
      ]
     },
     "execution_count": 21,
     "metadata": {},
     "output_type": "execute_result"
    }
   ],
   "source": [
    "even_numbers = [i for i in range(1, 21) if i % 2 == 0]\n",
    "print(\"The list of even numbers from 1 to 20 is:\")\n",
    "print(even_numbers)\n",
    "\"\"\"The list of even numbers from 1 to 20 is:\n",
    "[2, 4, 6, 8, 10, 12, 14, 16, 18, 20]\"\"\""
   ]
  },
  {
   "cell_type": "code",
   "execution_count": 23,
   "id": "f60e5838-f243-4290-be0e-90d950456797",
   "metadata": {},
   "outputs": [],
   "source": [
    "import os\n",
    "import time\n",
    "\n",
    "def file_operations():\n",
    "    try:\n",
    "        # Create a directory named \"test_folder\"\n",
    "        os.makedirs(\"test_folder\")\n",
    "    except OSError as e:\n",
    "        print(f\"Error creating directory: {e}\")\n",
    "    \n",
    "    # Pause the execution for 3 seconds\n",
    "    time.sleep(3)\n",
    "    \n",
    "    try:\n",
    "        # Delete the directory\n",
    "        os.rmdir(\"test_folder\")\n",
    "    except OSError as e:\n",
    "        print(f\"Error deleting directory: {e}\")\n",
    "\n",
    "# Call the function\n",
    "file_operations()\n"
   ]
  },
  {
   "cell_type": "code",
   "execution_count": 25,
   "id": "be1d3bd6-77e6-4a56-b000-e8cb7755f25e",
   "metadata": {},
   "outputs": [
    {
     "name": "stdout",
     "output_type": "stream",
     "text": [
      "Starting execution...\n",
      "Execution resumed.\n"
     ]
    }
   ],
   "source": [
    "from time import sleep as pause\n",
    "\n",
    "print(\"Starting execution...\")\n",
    "pause(2)\n",
    "print(\"Execution resumed.\")"
   ]
  },
  {
   "cell_type": "code",
   "execution_count": 27,
   "id": "30d284b6-a410-4b73-8f05-debf20d489eb",
   "metadata": {},
   "outputs": [],
   "source": [
    "def flatten_list(*args, **kwargs):\n",
    "    flat_list = []\n",
    "    for arg in args:\n",
    "        if isinstance(arg, list):\n",
    "            flat_list.extend(flatten_list(*arg))\n",
    "        else:\n",
    "            flat_list.append(arg)\n",
    "    return flat_list\n",
    "    "
   ]
  },
  {
   "cell_type": "code",
   "execution_count": null,
   "id": "7b1da011-98db-4b3f-90d4-cad30b3f95e6",
   "metadata": {},
   "outputs": [],
   "source": []
  }
 ],
 "metadata": {
  "kernelspec": {
   "display_name": "Python 3 (ipykernel)",
   "language": "python",
   "name": "python3"
  },
  "language_info": {
   "codemirror_mode": {
    "name": "ipython",
    "version": 3
   },
   "file_extension": ".py",
   "mimetype": "text/x-python",
   "name": "python",
   "nbconvert_exporter": "python",
   "pygments_lexer": "ipython3",
   "version": "3.12.4"
  }
 },
 "nbformat": 4,
 "nbformat_minor": 5
}
